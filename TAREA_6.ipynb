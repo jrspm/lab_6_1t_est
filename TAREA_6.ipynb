{
 "cells": [
  {
   "attachments": {},
   "cell_type": "markdown",
   "metadata": {},
   "source": [
    "# HOJA DE TRABAJO 6\n",
    "\n",
    "José Ricardo Mérida López\n",
    "\n",
    "\n",
    "## PROBLEMA No.1 \n",
    "\n",
    "\n",
    "\n",
    "El número de errores mecanográficos hechos por una secretaria tiene una distribución de\n",
    "Poisson con un promedio de cuatro errores por página. Si en una página se dan más de\n",
    "cuatro errores, la secretaria debe volver a escribir toda la página (repetirla). ¿Cuál es la\n",
    "probabilidad de que una página seleccionada al azar no tenga que volver a ser escrita?\n",
    "\n"
   ]
  },
  {
   "cell_type": "code",
   "execution_count": 2,
   "metadata": {},
   "outputs": [
    {
     "name": "stdout",
     "output_type": "stream",
     "text": [
      "La probabilidad es = 0.629\n"
     ]
    }
   ],
   "source": [
    "import numpy as np\n",
    "lambda_prom=4\n",
    "list_y=[0,1,2,3,4]\n",
    "\n",
    "sum=0\n",
    "\n",
    "for i in list_y:\n",
    "\n",
    "    sum+=pow(lambda_prom,i)*pow(2.71828,(-lambda_prom))/np.math.factorial(i)\n",
    "\n",
    "print(f\"La probabilidad es = {round(sum,3)}\")"
   ]
  },
  {
   "attachments": {},
   "cell_type": "markdown",
   "metadata": {},
   "source": [
    "## PROBLEMA No.2\n",
    "\n",
    "\n",
    "Llegan autos a una caseta de peaje de acuerdo con un proceso de Poisson con media de 80 autos por hora. Si el empleado hace una llamada teléfonica de 1 minuto, ¿cuál es la probabilidad de que al menos un auto llegue durante la llamada?\n",
    "\n"
   ]
  },
  {
   "cell_type": "code",
   "execution_count": 8,
   "metadata": {},
   "outputs": [
    {
     "name": "stdout",
     "output_type": "stream",
     "text": [
      "1.3333333333333333\n",
      "La probabilidad es = 0.736\n"
     ]
    }
   ],
   "source": [
    "import numpy as np\n",
    "lambda_prom_minuto=80/60\n",
    "\n",
    "print(lambda_prom_minuto)\n",
    "\n",
    "i=0\n",
    "\n",
    "prob=1-pow(lambda_prom_minuto,i)*pow(2.71828,(-lambda_prom_minuto))/np.math.factorial(i)\n",
    "\n",
    "print(f\"La probabilidad es = {round(prob,3)}\")"
   ]
  },
  {
   "attachments": {},
   "cell_type": "markdown",
   "metadata": {},
   "source": [
    "## PROBLEMA No.3\n",
    "\n",
    "Una moneda balanceada se lanza al aire tres veces. Sea X el número de caras observado.\n",
    "\n",
    "1. Use la fórmula para la distribución de probabilidad binomial para calcular las probabilidades asociadas con la variable aleatoria X."
   ]
  },
  {
   "cell_type": "code",
   "execution_count": 9,
   "metadata": {},
   "outputs": [
    {
     "data": {
      "image/png": "[encoded data removed]",
      "text/plain": [
       "<Figure size 640x480 with 1 Axes>"
      ]
     },
     "metadata": {},
     "output_type": "display_data"
    }
   ],
   "source": [
    "P_0_errores=(0.5)*(0.5)*(0.5)\n",
    "P_1_errores=3*(0.5)*(0.5)*(0.5)\n",
    "P_2_errores=3*(0.5)*(0.5)*(0.5)\n",
    "P_3_errores=(0.5)*(0.5)*(0.5)\n",
    "\n",
    "\n",
    "import matplotlib.pyplot as plt\n",
    "list_x=[0,1,2,3]\n",
    "list_prob=[P_0_errores,P_1_errores,P_2_errores,P_3_errores]\n",
    "\n",
    "plt.bar(list_x, list_prob)\n",
    "plt.xlabel('ERRORES')\n",
    "plt.ylabel('PROBABILIDAD')\n",
    "plt.show()"
   ]
  }
 ],
 "metadata": {
  "kernelspec": {
   "display_name": "base",
   "language": "python",
   "name": "python3"
  },
  "language_info": {
   "codemirror_mode": {
    "name": "ipython",
    "version": 3
   },
   "file_extension": ".py",
   "mimetype": "text/x-python",
   "name": "python",
   "nbconvert_exporter": "python",
   "pygments_lexer": "ipython3",
   "version": "3.9.13"
  },
  "orig_nbformat": 4
 },
 "nbformat": 4,
 "nbformat_minor": 2
}
