{
 "cells": [
  {
   "attachments": {},
   "cell_type": "markdown",
   "metadata": {},
   "source": [
    "# HOJA DE TRABAJO 6\n",
    "\n",
    "José Ricardo Mérida López\n",
    "\n",
    "\n",
    "## PROBLEMA No.1 \n",
    "\n",
    "\n",
    "\n",
    "El número de errores mecanográficos hechos por una secretaria tiene una distribución de\n",
    "Poisson con un promedio de cuatro errores por página. Si en una página se dan más de\n",
    "cuatro errores, la secretaria debe volver a escribir toda la página (repetirla). ¿Cuál es la\n",
    "probabilidad de que una página seleccionada al azar no tenga que volver a ser escrita?\n",
    "\n"
   ]
  },
  {
   "cell_type": "code",
   "execution_count": null,
   "metadata": {
    "vscode": {
     "languageId": "plaintext"
    }
   },
   "outputs": [],
   "source": []
  }
 ],
 "metadata": {
  "language_info": {
   "name": "python"
  },
  "orig_nbformat": 4
 },
 "nbformat": 4,
 "nbformat_minor": 2
}
